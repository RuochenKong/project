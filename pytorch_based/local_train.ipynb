{
 "cells": [
  {
   "cell_type": "code",
   "execution_count": 1,
   "id": "d023a4aa",
   "metadata": {},
   "outputs": [],
   "source": [
    "import torch\n",
    "import torch.nn as nn\n",
    "from torch.utils.data import Dataset, DataLoader, random_split\n",
    "from torch.autograd import Variable\n",
    "from resnet1d import Resnet34\n",
    "import numpy as np"
   ]
  },
  {
   "cell_type": "code",
   "execution_count": 2,
   "id": "a682acfd",
   "metadata": {},
   "outputs": [],
   "source": [
    "import torch.optim as optim\n",
    "\n",
    "def build_optimizer(params, lr = 0.001,  weight_decay = 0.0001):\n",
    "    paramiters = filter(lambda p : p.requires_grad, params)\n",
    "    optimizer = optim.Adam(paramiters, lr=lr, weight_decay=weight_decay)\n",
    "    criterion = nn.BCELoss()\n",
    "    return optimizer, criterion"
   ]
  },
  {
   "cell_type": "code",
   "execution_count": 3,
   "id": "cad92277",
   "metadata": {},
   "outputs": [],
   "source": [
    "class PPG(Dataset):\n",
    "    def __init__(self, X, y):\n",
    "        self.data = X\n",
    "        self.labels = y\n",
    "\n",
    "    def __getitem__(self, index):\n",
    "        return [self.data[index],self.labels[index]]\n",
    "\n",
    "    def __len__(self):\n",
    "        return len(self.data)"
   ]
  },
  {
   "cell_type": "code",
   "execution_count": 4,
   "id": "53db19a0",
   "metadata": {},
   "outputs": [],
   "source": [
    "def saveModel(model):\n",
    "    path = \"../data/trainedModel.pth\"\n",
    "    torch.save(model.state_dict(), path)"
   ]
  },
  {
   "cell_type": "code",
   "execution_count": 5,
   "id": "8ffc421a",
   "metadata": {},
   "outputs": [],
   "source": [
    "def Accuracy(data_loader,model,isvalidation = True):\n",
    "    if not isvalidation:\n",
    "        path = \"../data/trainedModel.pth\"\n",
    "        model = Resnet34().to('cuda')\n",
    "        model.load_state_dict(torch.load(path))\n",
    "    \n",
    "    model.eval()\n",
    "    accuracy = 0.0\n",
    "    total = 0.0\n",
    "    \n",
    "    with torch.no_grad():\n",
    "        for data in data_loader:\n",
    "            signals, labels = data\n",
    "            signals = signals.to('cuda')\n",
    "            labels = labels.to('cuda')\n",
    "            # run the model on the test set to predict labels\n",
    "            outputs = model(signals)\n",
    "            # the label with the highest energy will be our prediction\n",
    "            predicted = torch.argmax(outputs, dim=1)\n",
    "            total += labels.size(0)\n",
    "            accuracy += (predicted == labels).sum().item()\n",
    "    \n",
    "    # compute the accuracy over all test images\n",
    "    accuracy = (100 * accuracy / total)\n",
    "    return accuracy"
   ]
  },
  {
   "cell_type": "code",
   "execution_count": 6,
   "id": "d78b1d05",
   "metadata": {},
   "outputs": [],
   "source": [
    "def train(train_loader, valid_loader, num_epochs, lr = 0.001,  weight_decay = 0.0001):\n",
    "    \n",
    "    best_accuracy = 0.0\n",
    "\n",
    "    # Convert model parameters and buffers to CPU or Cuda\n",
    "    model = Resnet34().to('cuda')\n",
    "    optimizer,loss_fn = build_optimizer(model.parameters(),lr,weight_decay)\n",
    "    \n",
    "    for epoch in range(num_epochs):  # loop over the dataset multiple times\n",
    "        running_loss = 0.0\n",
    "        running_acc = 0.0\n",
    "        \n",
    "        for i, (signals, labels) in enumerate(train_loader, 0):\n",
    "            signals = signals.to('cuda')\n",
    "            labels = labels.to('cuda')\n",
    "            optimizer.zero_grad()\n",
    "            outputs = model(signals).requires_grad_()\n",
    "            outlabel = torch.argmax(outputs, dim=1).float().requires_grad_()\n",
    "            loss = loss_fn(outlabel,labels)\n",
    "            \n",
    "            loss.backward()\n",
    "            optimizer.step()\n",
    "\n",
    "            running_loss += loss.item()     # extract the loss value\n",
    "            if i % 1000 == 999:    \n",
    "                print('[%d, %5d] loss: %.3f' %\n",
    "                      (epoch + 1, i + 1, running_loss / 1000))\n",
    "                running_loss = 0.0\n",
    "\n",
    "        # Compute and print the average accuracy fo this epoch when tested over all 10000 test images\n",
    "        accuracy = Accuracy(valid_loader,model)\n",
    "        print('For epoch', epoch+1,'the test accuracy over the valid set is %d %%' % (accuracy))\n",
    "        \n",
    "        # we want to save the model if the accuracy is the best\n",
    "        if accuracy > best_accuracy:\n",
    "            saveModel(model)\n",
    "            best_accuracy = accuracy"
   ]
  },
  {
   "cell_type": "code",
   "execution_count": 7,
   "id": "9c20b344",
   "metadata": {},
   "outputs": [],
   "source": [
    "X = np.load('../data/ppg_data.npy')\n",
    "y = np.load('../data/labels.npy')\n",
    "X = torch.from_numpy(X).float().requires_grad_()\n",
    "y = torch.from_numpy(y).float().requires_grad_()\n",
    "data = PPG(X,y)\n",
    "N = len(data)\n",
    "trainN = int(N*0.8)\n",
    "validN = int(trainN*0.2)\n",
    "train_dataset, valid_dataset, test_dataset = random_split(data,(trainN-validN,validN,N-trainN))\n",
    "train_loader = DataLoader(train_dataset, batch_size=32, shuffle=True)\n",
    "valid_loader = DataLoader(valid_dataset, batch_size=32, shuffle=False)\n",
    "test_loader = DataLoader(test_dataset, batch_size=32, shuffle=True)"
   ]
  },
  {
   "cell_type": "code",
   "execution_count": 8,
   "id": "1ab51256",
   "metadata": {},
   "outputs": [
    {
     "name": "stdout",
     "output_type": "stream",
     "text": [
      "For epoch 1 the test accuracy over the valid set is 45 %\n",
      "For epoch 2 the test accuracy over the valid set is 40 %\n",
      "For epoch 3 the test accuracy over the valid set is 37 %\n",
      "For epoch 4 the test accuracy over the valid set is 45 %\n",
      "For epoch 5 the test accuracy over the valid set is 36 %\n",
      "Finished Training\n"
     ]
    }
   ],
   "source": [
    "train(train_loader,valid_loader,5)\n",
    "print('Finished Training')\n"
   ]
  },
  {
   "cell_type": "code",
   "execution_count": 10,
   "id": "4aba6c04",
   "metadata": {},
   "outputs": [
    {
     "data": {
      "text/plain": [
       "46.36871508379888"
      ]
     },
     "execution_count": 10,
     "metadata": {},
     "output_type": "execute_result"
    }
   ],
   "source": [
    "acc = Accuracy(test_loader,None,False)\n",
    "acc"
   ]
  },
  {
   "cell_type": "code",
   "execution_count": null,
   "id": "98bfd439",
   "metadata": {},
   "outputs": [],
   "source": []
  }
 ],
 "metadata": {
  "kernelspec": {
   "display_name": "Python 3 (ipykernel)",
   "language": "python",
   "name": "python3"
  },
  "language_info": {
   "codemirror_mode": {
    "name": "ipython",
    "version": 3
   },
   "file_extension": ".py",
   "mimetype": "text/x-python",
   "name": "python",
   "nbconvert_exporter": "python",
   "pygments_lexer": "ipython3",
   "version": "3.9.7"
  }
 },
 "nbformat": 4,
 "nbformat_minor": 5
}
